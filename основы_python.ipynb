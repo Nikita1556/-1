{
  "cells": [
    {
      "cell_type": "markdown",
      "metadata": {
        "id": "M-DGa20PaHnu"
      },
      "source": [
        "#Задача 1\n",
        "Написать функцию на вход которой подается строка, состоящая из латинских букв.\n",
        "Функция должна вернуть количество гласных букв (a, e, i, o, u) в этой строке. Написать тесты для кода"
      ]
    },
    {
      "cell_type": "code",
      "execution_count": 5,
      "metadata": {
        "id": "XvX8X_JJ6PCb"
      },
      "outputs": [
        {
          "name": "stdout",
          "output_type": "stream",
          "text": [
            "2\n"
          ]
        }
      ],
      "source": [
        "def count_v(text):  # Функция подсчитывает количество гласных букв в строке.\n",
        "    v = 'aeiou'  # Определение строки с гласными буквами\n",
        "    count = 0  # Инициализация счетчика гласных\n",
        "    for c in text.lower():  # Перевод каждой буквы в нижний регистр\n",
        "        if c in v:  # Проверка буквы на гласность\n",
        "            count += 1  # Увеличение счетчика, если да\n",
        "    print(count)  # Вывод количества гласных\n",
        "\n",
        "    # Пример использования функции\n",
        "text_input = \"Hello\"\n",
        "count_v(text_input)"
      ]
    },
    {
      "cell_type": "markdown",
      "metadata": {
        "id": "t2ClV_Y0bbr6"
      },
      "source": [
        "# Задача 2\n",
        "Написать функцию на вход, которой подается строка. Функция должна вернуть true, если\n",
        "каждый символ в строке встречается только 1 раз, иначе должна вернуть false. Написать тесты для кода"
      ]
    },
    {
      "cell_type": "code",
      "execution_count": 13,
      "metadata": {
        "id": "FppbECao6VIz"
      },
      "outputs": [
        {
          "name": "stderr",
          "output_type": "stream",
          "text": [
            "..\n",
            "----------------------------------------------------------------------\n",
            "Ran 2 tests in 0.002s\n",
            "\n",
            "OK\n"
          ]
        },
        {
          "name": "stdout",
          "output_type": "stream",
          "text": [
            "Тест для строки 'hello': False\n",
            "Тест для строки 'abcdefg': True\n"
          ]
        },
        {
          "data": {
            "text/plain": [
              "<unittest.runner.TextTestResult run=2 errors=0 failures=0>"
            ]
          },
          "execution_count": 13,
          "metadata": {},
          "output_type": "execute_result"
        }
      ],
      "source": [
        "import unittest  # Импортируем модуль для юнит-тестирования\n",
        "\n",
        "def x(s):\n",
        "    \"\"\"\n",
        "    Функция проверяет, встречается ли каждый символ в строке только один раз.\n",
        "    \n",
        "    :param s: Строка для проверки\n",
        "    :return: True, если все символы уникальны, иначе False\n",
        "    \"\"\"\n",
        "    char_set = set()  # Создаем пустое множество для хранения уникальных символов\n",
        "    for char in s:  # Проходим по каждому символу в строке\n",
        "        if char in char_set:  # Проверяем, есть ли символ в множестве\n",
        "            return False  # Если символ уже встречался, возвращаем False\n",
        "        char_set.add(char)  # Добавляем символ в множество\n",
        "    return True  # Если все символы уникальны, возвращаем True\n",
        "\n",
        "class TestUniqueCharacters(unittest.TestCase):\n",
        "    def test_x(self):\n",
        "        test_string = \"abcdefg\"  # Пример строки с уникальными символами\n",
        "        result = x(test_string)  # Вызов функции\n",
        "        print(f\"Тест для строки '{test_string}': {result}\")  # Вывод результата\n",
        "        self.assertTrue(result)  # Проверка, что результат True\n",
        "\n",
        "    def test_non_x(self):\n",
        "        test_string = \"hello\"  # Пример строки с неуникальными символами\n",
        "        result = x(test_string)  # Вызов функции\n",
        "        print(f\"Тест для строки '{test_string}': {result}\")  # Вывод результата\n",
        "        self.assertFalse(result)  # Проверка, что результат False\n",
        "\n",
        "# Запускаем тесты\n",
        "unittest.TextTestRunner().run(unittest.defaultTestLoader.loadTestsFromTestCase(TestUniqueCharacters))\n",
        "\n"
      ]
    },
    {
      "cell_type": "code",
      "execution_count": null,
      "metadata": {},
      "outputs": [],
      "source": []
    },
    {
      "cell_type": "markdown",
      "metadata": {
        "id": "udRiIK1cdt6E"
      },
      "source": [
        "# Задача 3\n",
        "Написать функцию, которая принимает положительное число и возвращает количество\n",
        "бит равных 1 в этом числе. Написать тесты для кода"
      ]
    },
    {
      "cell_type": "code",
      "execution_count": 14,
      "metadata": {
        "id": "6tkfDJRz6dp_"
      },
      "outputs": [
        {
          "name": "stderr",
          "output_type": "stream",
          "text": [
            ".\n",
            "----------------------------------------------------------------------\n",
            "Ran 1 test in 0.001s\n",
            "\n",
            "OK\n"
          ]
        },
        {
          "name": "stdout",
          "output_type": "stream",
          "text": [
            "c(0) = 0, ожидаемый результат = 0\n",
            "c(1) = 1, ожидаемый результат = 1\n",
            "c(6) = 2, ожидаемый результат = 2\n",
            "c(20) = 2, ожидаемый результат = 2\n"
          ]
        },
        {
          "data": {
            "text/plain": [
              "<unittest.runner.TextTestResult run=1 errors=0 failures=0>"
            ]
          },
          "execution_count": 14,
          "metadata": {},
          "output_type": "execute_result"
        }
      ],
      "source": [
        "def c(n):\n",
        "    \"\"\"Функция счета количества единичных бит в двоичной записи числа.\"\"\"\n",
        "    count = 0  # Инициализация счетчика единичных бит\n",
        "    while n:  # Цикл идет, пока n не станет равным нулю\n",
        "        count += n & 1  # Проверка последнего бита: если он единичный - увеличение счетчика\n",
        "        n >>= 1  # Сдвиг числа вправо на 1 бит для проверки следующего бита\n",
        "    return count  # Возвращение количества единичных бит\n",
        "\n",
        "# Тесты с выводом результатов\n",
        "import unittest\n",
        "\n",
        "class TestCountBits(unittest.TestCase):\n",
        "    def test_count_bits(self):\n",
        "        test_cases = [\n",
        "            (0, 0),   # Проверка, что функция возвращает 0\n",
        "            (1, 1),   # Проверка, что функция возвращает 1\n",
        "            (6, 2),   # Проверка, что функция возвращает 2\n",
        "            (20, 2),  # Проверка, что функция возвращает 2\n",
        "        ]\n",
        "        \n",
        "        for n, expected in test_cases:\n",
        "            result = c(n)  # Вызов функции\n",
        "            print(f\"c({n}) = {result}, ожидаемый результат = {expected}\")  # Вывод результата\n",
        "            self.assertEqual(result, expected)  # Проверка на равенство\n",
        "\n",
        "# Запускаем тесты\n",
        "unittest.TextTestRunner().run(unittest.defaultTestLoader.loadTestsFromTestCase(TestCountBits))\n"
      ]
    },
    {
      "cell_type": "markdown",
      "metadata": {
        "id": "26dDUz-Ae17N"
      },
      "source": [
        "# Задача 4\n",
        "Написать функцию, которая принимает положительное число. Функция должна вернуть то,\n",
        "сколько раз необходимо перемножать цифры числа или результат перемножения, чтобы\n",
        "получилось число состоящее из одной цифры.\n",
        "Например, для входного числа:\n",
        "· 39 функция должна вернуть 3, так как 3*9=27 => 2*7=14 => 1*4=4\n",
        "· 4 функция должна вернуть 0, так как число уже состоит из одной цифры\n",
        "· 999 функция должна вернуть 4, так как 9*9*9=729 => 7*2*9=126 => 1*2*6=12 =>\n",
        "1*2=2. Написать тесты для кода"
      ]
    },
    {
      "cell_type": "code",
      "execution_count": 15,
      "metadata": {
        "id": "BH1A_Mgi6i4G"
      },
      "outputs": [
        {
          "name": "stderr",
          "output_type": "stream",
          "text": [
            ".\n",
            "----------------------------------------------------------------------\n",
            "Ran 1 test in 0.001s\n",
            "\n",
            "OK\n"
          ]
        },
        {
          "name": "stdout",
          "output_type": "stream",
          "text": [
            "magic(39) = 3, ожидаемый результат = 3\n",
            "magic(42) = 1, ожидаемый результат = 1\n",
            "magic(999) = 4, ожидаемый результат = 4\n"
          ]
        },
        {
          "data": {
            "text/plain": [
              "<unittest.runner.TextTestResult run=1 errors=0 failures=0>"
            ]
          },
          "execution_count": 15,
          "metadata": {},
          "output_type": "execute_result"
        }
      ],
      "source": [
        "def p(n):\n",
        "    \"\"\"Функция вычисления произведения цифр в числе.\"\"\"\n",
        "    b = 1  # Инициализация произведения цифр\n",
        "    while n:\n",
        "        b *= n % 10  # Умножение на последнюю цифру числа\n",
        "        n //= 10  # Обрезание последней цифры числа\n",
        "    return b  # Возвращение произведения цифр\n",
        "\n",
        "def magic(n):\n",
        "    \"\"\"Функция подсчета количества операций умножения цифр, необходимых для получения однозначного числа.\"\"\"\n",
        "    count = 0  # Инициализация счетчика операций\n",
        "    while n > 9:  # Цикл продолжается, пока число не станет однозначным\n",
        "        count += 1  # Увеличение счетчика операций\n",
        "        n = p(n)  # Вычисление произведения цифр текущего числа\n",
        "    return count  # Возвращение количества операций\n",
        "\n",
        "# Тесты\n",
        "import unittest\n",
        "\n",
        "class TestMagicFunction(unittest.TestCase):\n",
        "    def test_magic(self):\n",
        "        test_cases = [\n",
        "            (39, 3),   # Проверка, что функция возвращает 3\n",
        "            (42, 1),   # Проверка, что функция возвращает 1\n",
        "            (999, 4),  # Проверка, что функция возвращает 4\n",
        "        ]\n",
        "        \n",
        "        for n, expected in test_cases:\n",
        "            result = magic(n)  # Вызов функции\n",
        "            print(f\"magic({n}) = {result}, ожидаемый результат = {expected}\")  # Вывод результата\n",
        "            self.assertEqual(result, expected)  # Проверка на равенство\n",
        "\n",
        "# Запускаем тесты\n",
        "unittest.TextTestRunner().run(unittest.defaultTestLoader.loadTestsFromTestCase(TestMagicFunction))\n",
        "\n",
        "\n"
      ]
    },
    {
      "cell_type": "markdown",
      "metadata": {
        "id": "0nS-kIa8g8vd"
      },
      "source": [
        "# Задача 5\n",
        "Написать функцию, которая принимает два целочисленных вектора одинаковой длины и\n",
        "возвращает среднеквадратическое отклонение двух векторов. Написать тесты для кода"
      ]
    },
    {
      "cell_type": "code",
      "execution_count": 16,
      "metadata": {
        "id": "8iphx4LM6xbx"
      },
      "outputs": [
        {
          "name": "stdout",
          "output_type": "stream",
          "text": [
            "mse([4 5 6], [4 5 6]) = 0.0, ожидаемый результат = 0.0\n",
            "mse([6 5 8], [7 6 9]) = 1.0, ожидаемый результат = 1.0\n",
            "mse([1 2 3], [5 6 7]) = 16.0, ожидаемый результат = 16.0\n"
          ]
        }
      ],
      "source": [
        "import numpy as np\n",
        "\n",
        "def mse(p, t):\n",
        "    \"\"\"Функция вычисляет среднеквадратическое отклонение между двумя векторами.\"\"\"\n",
        "    return np.mean(np.square(p - t))  # Вычисляем среднеквадратическое отклонение с помощью модуля NumPy\n",
        "\n",
        "# Тестирование функции mse\n",
        "def run_tests():\n",
        "    p1 = np.array([4, 5, 6])\n",
        "    t1 = np.array([4, 5, 6])\n",
        "    print(f\"mse({p1}, {t1}) = {mse(p1, t1)}, ожидаемый результат = 0.0\")  # Ожидаем 0.0\n",
        "\n",
        "    p2 = np.array([6, 5, 8])\n",
        "    t2 = np.array([7, 6, 9])\n",
        "    print(f\"mse({p2}, {t2}) = {mse(p2, t2)}, ожидаемый результат = 1.0\")  # Ожидаем 1.0\n",
        "\n",
        "    p3 = np.array([1, 2, 3])\n",
        "    t3 = np.array([5, 6, 7])\n",
        "    print(f\"mse({p3}, {t3}) = {mse(p3, t3)}, ожидаемый результат = 16.0\")  # Ожидаем 16.0\n",
        "\n",
        "run_tests()  # Запускаем тесты\n"
      ]
    },
    {
      "cell_type": "markdown",
      "metadata": {
        "id": "vpIPKL439zkw"
      },
      "source": [
        "# Задача 6\n",
        "Написать функцию, принимающая целое положительное число. Функция должна вернуть\n",
        "строку вида “(n1**p1)(n2**p2)…(nk**pk)” представляющая разложение числа на простые\n",
        "множители (если pi == 1, то выводить только ni).\n",
        "Например, для числа 86240 функция должна вернуть “(2**5)(5)(7**2)(11)”. Написать тесты для кода"
      ]
    },
    {
      "cell_type": "code",
      "execution_count": 17,
      "metadata": {
        "id": "pFebmcZk94Jw"
      },
      "outputs": [
        {
          "name": "stdout",
          "output_type": "stream",
          "text": [
            "f(12) = (2**2)(3), ожидаемый результат = '(2**2)(3)'\n",
            "f(410) = (2)(5)(41), ожидаемый результат = '(2)(5)(41)'\n"
          ]
        }
      ],
      "source": [
        "def f(n):\n",
        "    \"\"\"Функция раскладывает целое число на простые множители и возвращает строку в виде \"(n1p1)(n2p2)...(nkpk)\".\"\"\"\n",
        "    r = []  # Инициализация пустого массива для хранения разложений\n",
        "    for p in range(2, int(n**0.5) + 1):  # Проверка делимости на простые числа до квадратного корня из n\n",
        "        count = 0  # Счетчик для степени простого числа\n",
        "        while n % p == 0:  # Пока число делится на текущее простое число\n",
        "            count += 1  # Увеличение счетчика\n",
        "            n //= p  # Деление числа на простое число\n",
        "        if count > 0:  # Если степень простого числа больше 0\n",
        "            r.append(f\"({p}{'**' + str(count) if count > 1 else ''})\")  # Добавление в список строки с множителем\n",
        "\n",
        "    if n > 1:  # Если число не было полностью разложено \n",
        "        r.append(f\"({n})\")  # Добавление последнего множителя\n",
        "\n",
        "    return ''.join(r)  # Соединение всех множителей в одной строке\n",
        "\n",
        "# Тестирование функции f\n",
        "def run_tests():\n",
        "    print(f\"f(12) = {f(12)}, ожидаемый результат = '(2**2)(3)'\")  # Ожидаем \"(2**2)(3)\"\n",
        "    print(f\"f(410) = {f(410)}, ожидаемый результат = '(2)(5)(41)'\")  # Ожидаем \"(2)(5)(41)\"\n",
        "\n",
        "run_tests()  # Запускаем тесты\n",
        "\n",
        "\n"
      ]
    },
    {
      "cell_type": "markdown",
      "metadata": {
        "id": "ps2s0BudX7A2"
      },
      "source": [
        "# Задача 7\n",
        "Написать функцию, принимающая целое число n, задающее количество кубиков. Функция\n",
        "должна определить, можно ли из данного кол-ва кубиков построить пирамиду, то есть\n",
        "можно ли представить число n как 1^2+2^2+3^2+…+k^2. Если можно, то функция должна\n",
        "вернуть k, иначе строку “It is impossible”. Написать тесты для кода"
      ]
    },
    {
      "cell_type": "code",
      "execution_count": 18,
      "metadata": {
        "id": "3YPjEXxhX_YT"
      },
      "outputs": [
        {
          "name": "stdout",
          "output_type": "stream",
          "text": [
            "pyramid(14) = 3, ожидаемый результат = 3\n",
            "pyramid(56) = It is impossible, ожидаемый результат = 'It is impossible'\n",
            "pyramid(125) = It is impossible, ожидаемый результат = 'It is impossible'\n"
          ]
        }
      ],
      "source": [
        "\n",
        "def pyramid(n):  # Функция проверки - можно ли построить пирамиду из заданного числа кубиков.\n",
        "    sum = 0  # Инициализация суммы квадратов\n",
        "    z = 1  # Инициализация числа слоев\n",
        "    while sum < n:  # Пока сумма квадратов меньше заданного числа кубиков\n",
        "        sum += z**2  # Добавление квадрата текущего слоя к сумме\n",
        "        z += 1  # Переход к следующему слою\n",
        "    if sum == n:  # Если сумма квадратов равна заданному числу\n",
        "        return z - 1  # Возвращение количества слоев\n",
        "    else:\n",
        "        return \"It is impossible\"  # Если пирамиду построить нельзя, сообщаем об этом\n",
        "\n",
        "# Тестирование функции pyramid\n",
        "def run_tests():\n",
        "    print(f\"pyramid(14) = {pyramid(14)}, ожидаемый результат = 3\")  # Ожидаем 3\n",
        "    print(f\"pyramid(56) = {pyramid(56)}, ожидаемый результат = 'It is impossible'\")  # Ожидаем \"It is impossible\"\n",
        "    print(f\"pyramid(125) = {pyramid(125)}, ожидаемый результат = 'It is impossible'\")  # Ожидаем \"It is impossible\"\n",
        "\n",
        "run_tests()  # Запускаем тесты\n"
      ]
    },
    {
      "cell_type": "markdown",
      "metadata": {
        "id": "KeKgmIdAQMEJ"
      },
      "source": [
        "# Задача 8\n",
        "Функция принимает на вход положительное число и определяет является ли оно сбалансированным, т.е. сумма цифр до средних равна сумме цифр после. Средними в случае нечетного числа цифр считать одну цифру, в случае четного - две средних. Написать тесты для кода"
      ]
    },
    {
      "cell_type": "code",
      "execution_count": 19,
      "metadata": {
        "id": "gMAAqtqlQrZt"
      },
      "outputs": [
        {
          "name": "stdout",
          "output_type": "stream",
          "text": [
            "a(1234) = False, ожидаемый результат = False\n",
            "a(569032) = False, ожидаемый результат = False\n",
            "a(12344321) = True, ожидаемый результат = True\n"
          ]
        }
      ],
      "source": [
        "def a(n):  # Функция проверки - является ли число сбалансированным.\n",
        "    s = str(n)  # Преобразование числа в строку\n",
        "    l = len(s)  # Определение длины строки\n",
        "    m = l // 2  # Определение позиции средней цифры в числе\n",
        "    left_sum = sum(int(d) for d in s[:m])  # Сумма цифр до средней\n",
        "    right_sum = sum(int(d) for d in s[m + (l % 2):])  # Сумма цифр после средней\n",
        "    return left_sum == right_sum  # Проверка, равны ли суммы\n",
        "\n",
        "# Тестирование функции a\n",
        "def run_tests():\n",
        "    print(f\"a(1234) = {a(1234)}, ожидаемый результат = False\")  # Ожидаем False\n",
        "    print(f\"a(569032) = {a(569032)}, ожидаемый результат = False\")  # Ожидаем False\n",
        "    print(f\"a(12344321) = {a(12344321)}, ожидаемый результат = True\")  # Ожидаем True\n",
        "\n",
        "run_tests()  # Запускаем тесты\n",
        "\n"
      ]
    }
  ],
  "metadata": {
    "colab": {
      "provenance": []
    },
    "kernelspec": {
      "display_name": "Python 3",
      "name": "python3"
    },
    "language_info": {
      "codemirror_mode": {
        "name": "ipython",
        "version": 3
      },
      "file_extension": ".py",
      "mimetype": "text/x-python",
      "name": "python",
      "nbconvert_exporter": "python",
      "pygments_lexer": "ipython3",
      "version": "3.12.3"
    }
  },
  "nbformat": 4,
  "nbformat_minor": 0
}
